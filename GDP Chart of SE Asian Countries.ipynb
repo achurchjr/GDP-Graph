{
 "cells": [
  {
   "cell_type": "code",
   "execution_count": 5,
   "metadata": {},
   "outputs": [
    {
     "data": {
      "text/html": [
       "        <script type=\"text/javascript\">\n",
       "        window.PlotlyConfig = {MathJaxConfig: 'local'};\n",
       "        if (window.MathJax) {MathJax.Hub.Config({SVG: {font: \"STIX-Web\"}});}\n",
       "        if (typeof require !== 'undefined') {\n",
       "        require.undef(\"plotly\");\n",
       "        requirejs.config({\n",
       "            paths: {\n",
       "                'plotly': ['https://cdn.plot.ly/plotly-latest.min']\n",
       "            }\n",
       "        });\n",
       "        require(['plotly'], function(Plotly) {\n",
       "            window._Plotly = Plotly;\n",
       "        });\n",
       "        }\n",
       "        </script>\n",
       "        "
      ]
     },
     "metadata": {},
     "output_type": "display_data"
    },
    {
     "data": {
      "text/html": [
       "        <script type=\"text/javascript\">\n",
       "        window.PlotlyConfig = {MathJaxConfig: 'local'};\n",
       "        if (window.MathJax) {MathJax.Hub.Config({SVG: {font: \"STIX-Web\"}});}\n",
       "        if (typeof require !== 'undefined') {\n",
       "        require.undef(\"plotly\");\n",
       "        requirejs.config({\n",
       "            paths: {\n",
       "                'plotly': ['https://cdn.plot.ly/plotly-latest.min']\n",
       "            }\n",
       "        });\n",
       "        require(['plotly'], function(Plotly) {\n",
       "            window._Plotly = Plotly;\n",
       "        });\n",
       "        }\n",
       "        </script>\n",
       "        "
      ]
     },
     "metadata": {},
     "output_type": "display_data"
    },
    {
     "data": {
      "application/vnd.plotly.v1+json": {
       "config": {
        "linkText": "Export to plot.ly",
        "plotlyServerURL": "https://plot.ly",
        "responsive": true,
        "showLink": true
       },
       "data": [
        {
         "marker": {
          "color": "rgba(255, 153, 51, 1.0)",
          "line": {
           "width": 1.3
          },
          "opacity": 0.8,
          "size": 12,
          "symbol": "circle"
         },
         "mode": "lines+markers",
         "name": "Bangladesh",
         "textfont": {
          "color": "#4D5663"
         },
         "type": "scatter",
         "uid": "7df05919-3041-4ed4-920c-a82a1f901ae7",
         "x": [
          "2017",
          "2016",
          "2015",
          "2014",
          "2013",
          "2012",
          "2011",
          "2010",
          "2009"
         ],
         "y": [
          249.723862487361,
          221.415188000475,
          195.07867869723,
          172.885454931453,
          149.99045102229002,
          133.355749482478,
          128.637938711386,
          115.279077465226,
          102.47779147239
         ]
        },
        {
         "marker": {
          "color": "rgba(55, 128, 191, 1.0)",
          "line": {
           "width": 1.3
          },
          "opacity": 0.8,
          "size": 12,
          "symbol": "circle"
         },
         "mode": "lines+markers",
         "name": "Cote d'Ivoire",
         "textfont": {
          "color": "#4D5663"
         },
         "type": "scatter",
         "uid": "deb2c453-111c-4aff-be2f-73cb7dc9d0f3",
         "x": [
          "2017",
          "2016",
          "2015",
          "2014",
          "2013",
          "2012",
          "2011",
          "2010",
          "2009"
         ],
         "y": [
          37.3532760592518,
          35.3899986389371,
          39.633467835725,
          35.3432981135131,
          31.273049200243,
          26.790579775294997,
          25.3816167340693,
          24.8845050345564,
          24.2774938620625
         ]
        },
        {
         "marker": {
          "color": "rgba(50, 171, 96, 1.0)",
          "line": {
           "width": 1.3
          },
          "opacity": 0.8,
          "size": 12,
          "symbol": "circle"
         },
         "mode": "lines+markers",
         "name": "Ethiopia",
         "textfont": {
          "color": "#4D5663"
         },
         "type": "scatter",
         "uid": "6bd7998c-c2e4-473e-84b6-79a6fcf87b66",
         "x": [
          "2017",
          "2016",
          "2015",
          "2014",
          "2013",
          "2012",
          "2011",
          "2010",
          "2009"
         ],
         "y": [
          80.5614961339172,
          73.0009804339486,
          64.4645479152698,
          55.6122282335179,
          47.6482111332183,
          43.3107214140829,
          31.952763089330002,
          29.9337903343418,
          32.437389116038
         ]
        },
        {
         "marker": {
          "color": "rgba(128, 0, 128, 1.0)",
          "line": {
           "width": 1.3
          },
          "opacity": 0.8,
          "size": 12,
          "symbol": "circle"
         },
         "mode": "lines+markers",
         "name": "Myanmar",
         "textfont": {
          "color": "#4D5663"
         },
         "type": "scatter",
         "uid": "7dd3c824-560a-49f9-a9d6-2cd390f0c066",
         "x": [
          "2017",
          "2016",
          "2015",
          "2014",
          "2013",
          "2012",
          "2011",
          "2010",
          "2009"
         ],
         "y": [
          67.0687455213823,
          63.2561847002223,
          59.687410896573404,
          65.4461997878425,
          60.269734044526004,
          59.937797559329496,
          59.977326085990796,
          49.540813342483396,
          36.9061813808127
         ]
        },
        {
         "marker": {
          "color": "rgba(219, 64, 82, 1.0)",
          "line": {
           "width": 1.3
          },
          "opacity": 0.8,
          "size": 12,
          "symbol": "circle"
         },
         "mode": "lines+markers",
         "name": "Philippines",
         "textfont": {
          "color": "#4D5663"
         },
         "type": "scatter",
         "uid": "743ed834-283f-4c46-a5b8-be7444194943",
         "x": [
          "2017",
          "2016",
          "2015",
          "2014",
          "2013",
          "2012",
          "2011",
          "2010",
          "2009"
         ],
         "y": [
          313.59520873665997,
          304.88907956414204,
          292.774099013687,
          284.584522898872,
          271.836123723678,
          250.09209299814302,
          224.14308370677702,
          199.590775190258,
          168.334601260075
         ]
        },
        {
         "marker": {
          "color": "rgba(0, 128, 128, 1.0)",
          "line": {
           "width": 1.3
          },
          "opacity": 0.8,
          "size": 12,
          "symbol": "circle"
         },
         "mode": "lines+markers",
         "name": "Vietnam",
         "textfont": {
          "color": "#4D5663"
         },
         "type": "scatter",
         "uid": "a4adc6c8-a669-4e0f-9524-6c64b1e836f1",
         "x": [
          "2017",
          "2016",
          "2015",
          "2014",
          "2013",
          "2012",
          "2011",
          "2010",
          "2009"
         ],
         "y": [
          223.779865815183,
          205.276172134901,
          193.241108709536,
          186.204652922262,
          171.222025117381,
          155.82000192049202,
          135.539438559709,
          115.931749697241,
          106.014659770222
         ]
        }
       ],
       "layout": {
        "legend": {
         "bgcolor": "#F5F6F9",
         "font": {
          "color": "#4D5663"
         }
        },
        "paper_bgcolor": "#F5F6F9",
        "plot_bgcolor": "#F5F6F9",
        "title": {
         "font": {
          "color": "#4D5663"
         },
         "text": "GDP Graph"
        },
        "xaxis": {
         "gridcolor": "#E1E5ED",
         "showgrid": true,
         "tickfont": {
          "color": "#4D5663"
         },
         "title": {
          "font": {
           "color": "#4D5663"
          },
          "text": "Year"
         },
         "zerolinecolor": "#E1E5ED"
        },
        "yaxis": {
         "gridcolor": "#E1E5ED",
         "showgrid": true,
         "tickfont": {
          "color": "#4D5663"
         },
         "title": {
          "font": {
           "color": "#4D5663"
          },
          "text": "GDP in Billions"
         },
         "zerolinecolor": "#E1E5ED"
        }
       }
      },
      "text/html": [
       "<div>\n",
       "        \n",
       "        \n",
       "            <div id=\"fed83784-6333-4642-a8c9-02006a20d216\" class=\"plotly-graph-div\" style=\"height:525px; width:100%;\"></div>\n",
       "            <script type=\"text/javascript\">\n",
       "                require([\"plotly\"], function(Plotly) {\n",
       "                    window.PLOTLYENV=window.PLOTLYENV || {};\n",
       "                    window.PLOTLYENV.BASE_URL='https://plot.ly';\n",
       "                    \n",
       "                if (document.getElementById(\"fed83784-6333-4642-a8c9-02006a20d216\")) {\n",
       "                    Plotly.newPlot(\n",
       "                        'fed83784-6333-4642-a8c9-02006a20d216',\n",
       "                        [{\"marker\": {\"color\": \"rgba(255, 153, 51, 1.0)\", \"line\": {\"width\": 1.3}, \"opacity\": 0.8, \"size\": 12, \"symbol\": \"circle\"}, \"mode\": \"lines+markers\", \"name\": \"Bangladesh\", \"textfont\": {\"color\": \"#4D5663\"}, \"type\": \"scatter\", \"uid\": \"d13f7618-02cc-4582-85ba-996f96206588\", \"x\": [\"2017\", \"2016\", \"2015\", \"2014\", \"2013\", \"2012\", \"2011\", \"2010\", \"2009\"], \"y\": [249.723862487361, 221.415188000475, 195.07867869723, 172.885454931453, 149.99045102229002, 133.355749482478, 128.637938711386, 115.279077465226, 102.47779147239]}, {\"marker\": {\"color\": \"rgba(55, 128, 191, 1.0)\", \"line\": {\"width\": 1.3}, \"opacity\": 0.8, \"size\": 12, \"symbol\": \"circle\"}, \"mode\": \"lines+markers\", \"name\": \"Cote d'Ivoire\", \"textfont\": {\"color\": \"#4D5663\"}, \"type\": \"scatter\", \"uid\": \"a8c8e7a9-2d10-4111-8c11-6a5a4e0f93c6\", \"x\": [\"2017\", \"2016\", \"2015\", \"2014\", \"2013\", \"2012\", \"2011\", \"2010\", \"2009\"], \"y\": [37.3532760592518, 35.3899986389371, 39.633467835725, 35.3432981135131, 31.273049200243, 26.790579775294997, 25.3816167340693, 24.8845050345564, 24.2774938620625]}, {\"marker\": {\"color\": \"rgba(50, 171, 96, 1.0)\", \"line\": {\"width\": 1.3}, \"opacity\": 0.8, \"size\": 12, \"symbol\": \"circle\"}, \"mode\": \"lines+markers\", \"name\": \"Ethiopia\", \"textfont\": {\"color\": \"#4D5663\"}, \"type\": \"scatter\", \"uid\": \"03d17549-bb3b-4fb3-b9f2-e5d410f22b78\", \"x\": [\"2017\", \"2016\", \"2015\", \"2014\", \"2013\", \"2012\", \"2011\", \"2010\", \"2009\"], \"y\": [80.5614961339172, 73.0009804339486, 64.4645479152698, 55.6122282335179, 47.6482111332183, 43.3107214140829, 31.952763089330002, 29.9337903343418, 32.437389116038]}, {\"marker\": {\"color\": \"rgba(128, 0, 128, 1.0)\", \"line\": {\"width\": 1.3}, \"opacity\": 0.8, \"size\": 12, \"symbol\": \"circle\"}, \"mode\": \"lines+markers\", \"name\": \"Myanmar\", \"textfont\": {\"color\": \"#4D5663\"}, \"type\": \"scatter\", \"uid\": \"9cf5b9c8-59ef-47c6-b885-8ad50f155390\", \"x\": [\"2017\", \"2016\", \"2015\", \"2014\", \"2013\", \"2012\", \"2011\", \"2010\", \"2009\"], \"y\": [67.0687455213823, 63.2561847002223, 59.687410896573404, 65.4461997878425, 60.269734044526004, 59.937797559329496, 59.977326085990796, 49.540813342483396, 36.9061813808127]}, {\"marker\": {\"color\": \"rgba(219, 64, 82, 1.0)\", \"line\": {\"width\": 1.3}, \"opacity\": 0.8, \"size\": 12, \"symbol\": \"circle\"}, \"mode\": \"lines+markers\", \"name\": \"Philippines\", \"textfont\": {\"color\": \"#4D5663\"}, \"type\": \"scatter\", \"uid\": \"282b1754-9109-48e9-b54a-30c82f06d4c1\", \"x\": [\"2017\", \"2016\", \"2015\", \"2014\", \"2013\", \"2012\", \"2011\", \"2010\", \"2009\"], \"y\": [313.59520873665997, 304.88907956414204, 292.774099013687, 284.584522898872, 271.836123723678, 250.09209299814302, 224.14308370677702, 199.590775190258, 168.334601260075]}, {\"marker\": {\"color\": \"rgba(0, 128, 128, 1.0)\", \"line\": {\"width\": 1.3}, \"opacity\": 0.8, \"size\": 12, \"symbol\": \"circle\"}, \"mode\": \"lines+markers\", \"name\": \"Vietnam\", \"textfont\": {\"color\": \"#4D5663\"}, \"type\": \"scatter\", \"uid\": \"0274938e-e86f-47dd-ac13-abbf99e02138\", \"x\": [\"2017\", \"2016\", \"2015\", \"2014\", \"2013\", \"2012\", \"2011\", \"2010\", \"2009\"], \"y\": [223.779865815183, 205.276172134901, 193.241108709536, 186.204652922262, 171.222025117381, 155.82000192049202, 135.539438559709, 115.931749697241, 106.014659770222]}],\n",
       "                        {\"legend\": {\"bgcolor\": \"#F5F6F9\", \"font\": {\"color\": \"#4D5663\"}}, \"paper_bgcolor\": \"#F5F6F9\", \"plot_bgcolor\": \"#F5F6F9\", \"title\": {\"font\": {\"color\": \"#4D5663\"}, \"text\": \"GDP Graph\"}, \"xaxis\": {\"gridcolor\": \"#E1E5ED\", \"showgrid\": true, \"tickfont\": {\"color\": \"#4D5663\"}, \"title\": {\"font\": {\"color\": \"#4D5663\"}, \"text\": \"Year\"}, \"zerolinecolor\": \"#E1E5ED\"}, \"yaxis\": {\"gridcolor\": \"#E1E5ED\", \"showgrid\": true, \"tickfont\": {\"color\": \"#4D5663\"}, \"title\": {\"font\": {\"color\": \"#4D5663\"}, \"text\": \"GDP in Billions\"}, \"zerolinecolor\": \"#E1E5ED\"}},\n",
       "                        {\"showLink\": true, \"linkText\": \"Export to plot.ly\", \"plotlyServerURL\": \"https://plot.ly\", \"responsive\": true}\n",
       "                    ).then(function(){\n",
       "                            \n",
       "var gd = document.getElementById('fed83784-6333-4642-a8c9-02006a20d216');\n",
       "var x = new MutationObserver(function (mutations, observer) {{\n",
       "        var display = window.getComputedStyle(gd).display;\n",
       "        if (!display || display === 'none') {{\n",
       "            console.log([gd, 'removed!']);\n",
       "            Plotly.purge(gd);\n",
       "            observer.disconnect();\n",
       "        }}\n",
       "}});\n",
       "\n",
       "// Listen for the removal of the full notebook cells\n",
       "var notebookContainer = gd.closest('#notebook-container');\n",
       "if (notebookContainer) {{\n",
       "    x.observe(notebookContainer, {childList: true});\n",
       "}}\n",
       "\n",
       "// Listen for the clearing of the current output cell\n",
       "var outputEl = gd.closest('.output');\n",
       "if (outputEl) {{\n",
       "    x.observe(outputEl, {childList: true});\n",
       "}}\n",
       "\n",
       "                        })\n",
       "                };\n",
       "                });\n",
       "            </script>\n",
       "        </div>"
      ]
     },
     "metadata": {},
     "output_type": "display_data"
    }
   ],
   "source": [
    "#Import packages\n",
    "import pandas as pd # for analysis\n",
    "import wbdata\n",
    "import datetime\n",
    "import plotly.plotly as py\n",
    "import plotly.graph_objs as go\n",
    "from plotly.offline import iplot, init_notebook_mode\n",
    "# Using plotly + cufflinks in offline mode\n",
    "import cufflinks\n",
    "cufflinks.go_offline(connected=True)\n",
    "init_notebook_mode(connected=True)\n",
    "\n",
    "#Select countries and assign to list, excluding India for better scaling\n",
    "countries = [\"BGD\", \"VNM\", \"CIV\", \"ETH\", \"PHL\", \"MMR\"]\n",
    "\n",
    "#Select date range\n",
    "data_date = (datetime.datetime(2009, 1, 1), datetime.datetime(2017, 1, 1))\n",
    "\n",
    "#Select WB indicators from DataBank\n",
    "indicators = {\"DT.DOD.DLXF.CD\": \"External_debt_stocks\", \"NY.GDP.MKTP.CD\": \"GDP_USD\"}\n",
    "GDP = wbdata.get_dataframe(indicators, country=countries, data_date = data_date, convert_date=False)\n",
    "\n",
    "GDPchart = pd.DataFrame(GDP.to_records())\n",
    "GDPchart = GDPchart.rename(index=str, columns={\n",
    "    \"date\":\"Year\",\n",
    "    \"country\":\"Country\",\n",
    "})\n",
    "\n",
    "#Divide GDP_USD column to get units in billion\n",
    "GDPchart['GDP_USD'] = GDPchart['GDP_USD'].apply(lambda x: x/1000000000)\n",
    "\n",
    "GDPchart.iplot(\n",
    "    x = 'Year',\n",
    "    y = 'GDP_USD',\n",
    "    mode = 'lines+markers',\n",
    "    categories = 'Country',\n",
    "    xTitle = 'Year',\n",
    "    yTitle = 'GDP in Billions',\n",
    "    title = 'GDP Graph')"
   ]
  },
  {
   "cell_type": "code",
   "execution_count": null,
   "metadata": {},
   "outputs": [],
   "source": []
  }
 ],
 "metadata": {
  "kernelspec": {
   "display_name": "Python 3",
   "language": "python",
   "name": "python3"
  },
  "language_info": {
   "codemirror_mode": {
    "name": "ipython",
    "version": 3
   },
   "file_extension": ".py",
   "mimetype": "text/x-python",
   "name": "python",
   "nbconvert_exporter": "python",
   "pygments_lexer": "ipython3",
   "version": "3.7.1"
  }
 },
 "nbformat": 4,
 "nbformat_minor": 2
}
